{
 "cells": [
  {
   "cell_type": "code",
   "execution_count": null,
   "metadata": {
    "id": "SblI4JHed_gb"
   },
   "outputs": [],
   "source": [
    "# this mounts your Google Drive to the Colab VM.\n",
    "from google.colab import drive\n",
    "drive.mount('/content/drive', force_remount=True)\n",
    "\n",
    "# enter the foldername in your Drive where you have saved the unzipped\n",
    "# assignment folder, e.g. 'ece697ls/assignments/assignment3/'\n",
    "FOLDERNAME = None\n",
    "assert FOLDERNAME is not None, \"[!] Enter the foldername.\"\n",
    "\n",
    "# now that we've mounted your Drive, this ensures that\n",
    "# the Python interpreter of the Colab VM can load\n",
    "# python files from within it.\n",
    "import sys\n",
    "sys.path.append('/content/drive/My Drive/{}'.format(FOLDERNAME))\n",
    "\n",
    "%cd /content"
   ]
  },
  {
   "cell_type": "markdown",
   "metadata": {
    "id": "rDCKl_T8d_gg",
    "tags": [
     "pdf-title"
    ]
   },
   "source": [
    "# Pruning\n",
    "\n",
    "After learning, neural networks have modified and learned a set of parameters to perform our classification task. However, such parameters are costly to maintain and do not hold the same importance.\n",
    "\n",
    "Wouldn't it be great could optimize our resource usage by dropping less important values ? This is where pruning comes into play.\n",
    "\n",
    "Pruning is a technique that cuts off parameters/structures from a model to increase sparcity and decrease overall model size, similar to cutting leafs or branches from bushes and trees. This process can lead to smaller memory consumption with minimal accuracy reduction. Moreover, pruning the network may also provide a speedup since there will be less operations being performed.\n",
    "\n",
    "The pruning process can be performed during the end of an epoch of training or after training is complete. Experimenting to find out which way works the best is part of the fun !"
   ]
  },
  {
   "cell_type": "code",
   "execution_count": null,
   "metadata": {},
   "outputs": [],
   "source": [
    "import sys\n",
    "!{sys.executable} -m pip install scikit-learn"
   ]
  },
  {
   "cell_type": "code",
   "execution_count": 2,
   "metadata": {
    "id": "P242B5PEtU6N"
   },
   "outputs": [
    {
     "ename": "ImportError",
     "evalue": "cannot import name 'get_trained_model' from 'ece697ls.pruning_helper' (/Users/hamood/coding/ECE 562/assignment1_colab/assignment1/ece697ls/pruning_helper.py)",
     "output_type": "error",
     "traceback": [
      "\u001b[31m---------------------------------------------------------------------------\u001b[39m",
      "\u001b[31mImportError\u001b[39m                               Traceback (most recent call last)",
      "\u001b[36mCell\u001b[39m\u001b[36m \u001b[39m\u001b[32mIn[2]\u001b[39m\u001b[32m, line 1\u001b[39m\n\u001b[32m----> \u001b[39m\u001b[32m1\u001b[39m \u001b[38;5;28;01mfrom\u001b[39;00m\u001b[38;5;250m \u001b[39m\u001b[34;01mece697ls\u001b[39;00m\u001b[34;01m.\u001b[39;00m\u001b[34;01mpruning_helper\u001b[39;00m\u001b[38;5;250m \u001b[39m\u001b[38;5;28;01mimport\u001b[39;00m get_trained_model, test_model, load_model\n\u001b[32m      2\u001b[39m \u001b[38;5;28;01mfrom\u001b[39;00m\u001b[38;5;250m \u001b[39m\u001b[34;01mece697ls\u001b[39;00m\u001b[34;01m.\u001b[39;00m\u001b[34;01mdata_utils\u001b[39;00m\u001b[38;5;250m \u001b[39m\u001b[38;5;28;01mimport\u001b[39;00m get_CINIC10_data\n\u001b[32m      3\u001b[39m \u001b[38;5;28;01mimport\u001b[39;00m\u001b[38;5;250m \u001b[39m\u001b[34;01mos\u001b[39;00m\n",
      "\u001b[31mImportError\u001b[39m: cannot import name 'get_trained_model' from 'ece697ls.pruning_helper' (/Users/hamood/coding/ECE 562/assignment1_colab/assignment1/ece697ls/pruning_helper.py)"
     ]
    }
   ],
   "source": [
    "from ece697ls.pruning_helper import get_trained_model, test_model, load_model\n",
    "from ece697ls.data_utils import get_CINIC10_data\n",
    "import os"
   ]
  },
  {
   "cell_type": "markdown",
   "metadata": {
    "id": "76IT2Z-P7aYm"
   },
   "source": [
    "Below we will load a pre-trained model for you to work on. If you prefer, you can save your own model from the previous Tensorflow/Pytorch task and load it here."
   ]
  },
  {
   "cell_type": "code",
   "execution_count": null,
   "metadata": {
    "id": "jKM5JRLtuVbJ"
   },
   "outputs": [],
   "source": [
    "#This code may take a while to execute as it is training a network form scratch\n",
    "\n",
    "data = get_CINIC10_data()\n",
    "mode = 'torch'#torch or tensorflow\n",
    "\n",
    "test_data = [data['X_test'],data['y_test']]\n",
    "\n",
    "path = os.path.join('/content/drive/My Drive/{}'.format(FOLDERNAME), f\"ece697ls/models/{mode}.model\")\n",
    "\n",
    "model = load_model(path,mode=mode)\n",
    "test_model(model,test_data,mode=mode)"
   ]
  },
  {
   "cell_type": "markdown",
   "metadata": {
    "id": "yZOsPryFd_gi",
    "tags": [
     "pdf-ignore"
    ]
   },
   "source": [
    "## Unstructured Pruning\n",
    "\n",
    "Unstructured Pruning is usually related to the pruning of weights in neural networks. The general idea is to select a set of weights according to a policy and setting them up to zero. \n",
    "\n",
    "Common policies are random weight selection or selecting the smallers weights. \n",
    "Unstructured Pruning can be performed in one or multiple layers within the same network.\n",
    "\n",
    "Altough in theory Unstructured Pruning should decrease the number of operations performed during execution there should be explicit support within the framework or hardware to bypass such operations, otherwise it will just operated over zero."
   ]
  },
  {
   "cell_type": "markdown",
   "metadata": {
    "id": "gjxdSF2xmCei"
   },
   "source": [
    "### Perform Pruning\n",
    "\n",
    "Using the model trained in the previous step using pytorch, perform unstructured pruning in the weights of the model by removing x% of the smallest weights. \n",
    "\n",
    "*   Increment global pruning by 10% until reaching total of 80% pruned weights\n",
    "*   Perform inference at the end of each pruning and observe the impact into the accuracy.\n",
    "\n",
    "\n",
    "Note: The percentages are related to the entire model, not per layer.\n",
    "\n"
   ]
  },
  {
   "cell_type": "code",
   "execution_count": null,
   "metadata": {
    "id": "KaGWTxBcmkzc"
   },
   "outputs": [],
   "source": [
    "################################################################################\n",
    "# TODO: Perform unstructured Pruning over the trained model using 3 different  \n",
    "# prunning percentages.                                \n",
    "################################################################################\n",
    "# *****START OF YOUR CODE (DO NOT DELETE/MODIFY THIS LINE)*****\n",
    "\n",
    "import torch\n",
    "import torch.nn.utils.prune as prune\n",
    "\n",
    "print(\"Original model accuracy:\")\n",
    "test_model(model, test_data, mode=mode)\n",
    "print(\"\\n\" + \"=\"*60 + \"\\n\")\n",
    "\n",
    "# Get all parameters to prune (weights from Linear and Conv2d layers)\n",
    "parameters_to_prune = []\n",
    "for name, module in model.named_modules():\n",
    "    if isinstance(module, (torch.nn.Linear, torch.nn.Conv2d)):\n",
    "        parameters_to_prune.append((module, 'weight'))\n",
    "\n",
    "# Perform pruning at different percentages: 10%, 20%, 30%, 40%, 50%, 60%, 70%, 80%\n",
    "pruning_percentages = [0.1, 0.2, 0.3, 0.4, 0.5, 0.6, 0.7, 0.8]\n",
    "\n",
    "for prune_amount in pruning_percentages:\n",
    "    # Apply global unstructured pruning (L1 norm - smallest magnitude weights)\n",
    "    prune.global_unstructured(\n",
    "        parameters_to_prune,\n",
    "        pruning_method=prune.L1Unstructured,\n",
    "        amount=prune_amount,\n",
    "    )\n",
    "    \n",
    "    print(f\"Pruning {int(prune_amount * 100)}% of weights (smallest magnitude)\")\n",
    "    test_model(model, test_data, mode=mode)\n",
    "    \n",
    "    # Calculate actual sparsity\n",
    "    total_params = 0\n",
    "    zero_params = 0\n",
    "    for module, param_name in parameters_to_prune:\n",
    "        param = getattr(module, param_name)\n",
    "        total_params += param.numel()\n",
    "        zero_params += (param == 0).sum().item()\n",
    "    \n",
    "    sparsity = 100. * zero_params / total_params\n",
    "    print(f\"Global sparsity: {sparsity:.2f}%\")\n",
    "    print(\"=\"*60 + \"\\n\")\n",
    "    \n",
    "    # Remove pruning to continue to next percentage\n",
    "    for module, param_name in parameters_to_prune:\n",
    "        prune.remove(module, param_name)\n",
    "\n",
    "\n",
    "# *****END OF YOUR CODE (DO NOT DELETE/MODIFY THIS LINE)*****\n",
    "################################################################################\n",
    "#                              END OF YOUR CODE                                #\n",
    "################################################################################"
   ]
  },
  {
   "cell_type": "markdown",
   "metadata": {
    "id": "zH6e3pCMm2in"
   },
   "source": [
    "## Inline Question 1:\n",
    "\n",
    "What happened with the accuracy as the % of pruning increased ?\n",
    "Why was that the case?\n",
    "\n",
    "\n",
    "## Answer: \n",
    "\n",
    "The accuracy stayed pretty stable at first with low pruning percentages but started dropping significantly once we got past 50-60% pruning. This happened because the smaller weights we removed early on weren't that important, but eventually we started cutting weights that actually mattered for making correct predictions."
   ]
  },
  {
   "cell_type": "markdown",
   "metadata": {
    "id": "JN5CMlgUd_gj",
    "tags": [
     "pdf-ignore"
    ]
   },
   "source": [
    "## Structured Pruning\n",
    "\n",
    "Structured Pruning consists of removing a bigger chunk of the network parameters at the same time. Instead of removing only a few weights, it is commonplace to remove entire neurons. \n",
    "\n",
    "For example, in Convolutional Layers, removing filters can be beneficial to improve performance as it greatly decreases the amount of computation performed. However, some of these changes may affect output dimensions which may be carried over to other parts of the network. Therefore, when performing structured pruning one must always be aware of which parameters are going to be affected."
   ]
  },
  {
   "cell_type": "markdown",
   "metadata": {
    "id": "fAr9SLo25Gyx"
   },
   "source": [
    "Using the previously trained model in the CINIC-10, perform Structured Prunning only in the Convolution layers of the DNN."
   ]
  },
  {
   "cell_type": "code",
   "execution_count": null,
   "metadata": {
    "id": "JFPiHtBohTus"
   },
   "outputs": [],
   "source": [
    "################################################################################\n",
    "# TODO: Perform unstrucuted Pruning over the trained model using 3 different  \n",
    "# prunning percentages.                                \n",
    "################################################################################\n",
    "# *****START OF YOUR CODE (DO NOT DELETE/MODIFY THIS LINE)*****\n",
    "import torch\n",
    "import torch.nn.utils.prune as prune\n",
    "\n",
    "print(\"Model accuracy before structured pruning:\")\n",
    "test_model(model, test_data, mode=mode)\n",
    "print(\"\\n\" + \"=\"*60 + \"\\n\")\n",
    "\n",
    "conv_layers_to_prune = []\n",
    "for name, module in model.named_modules():\n",
    "    if isinstance(module, torch.nn.Conv2d):\n",
    "        conv_layers_to_prune.append((module, 'weight'))\n",
    "        print(f\"Found Conv2d layer: {name}, shape: {module.weight.shape}\")\n",
    "\n",
    "print(f\"\\nTotal Conv2d layers to prune: {len(conv_layers_to_prune)}\")\n",
    "print(\"=\"*60 + \"\\n\")\n",
    "\n",
    "pruning_percentages = [0.1, 0.3, 0.5]\n",
    "\n",
    "for prune_amount in pruning_percentages:\n",
    "    # Prune entire filters (dim=0) based on L1 norm\n",
    "    for module, param_name in conv_layers_to_prune:\n",
    "        prune.ln_structured(\n",
    "            module,\n",
    "            name=param_name,\n",
    "            amount=prune_amount,\n",
    "            n=1,  \n",
    "            dim=0  \n",
    "        )\n",
    "    \n",
    "    print(f\"Structured Pruning: {int(prune_amount * 100)}% of filters in Conv layers\")\n",
    "    test_model(model, test_data, mode=mode)\n",
    "    \n",
    "    total_params = 0\n",
    "    zero_params = 0\n",
    "    for module, param_name in conv_layers_to_prune:\n",
    "        param = getattr(module, param_name)\n",
    "        total_params += param.numel()\n",
    "        zero_params += (param == 0).sum().item()\n",
    "    \n",
    "    sparsity = 100. * zero_params / total_params\n",
    "    print(f\"Conv layers sparsity: {sparsity:.2f}%\")\n",
    "    print(\"=\"*60 + \"\\n\")\n",
    "    \n",
    "    for module, param_name in conv_layers_to_prune:\n",
    "        prune.remove(module, param_name)\n",
    "\n",
    "# *****END OF YOUR CODE (DO NOT DELETE/MODIFY THIS LINE)*****\n",
    "################################################################################\n",
    "#                              END OF YOUR CODE                                #\n",
    "################################################################################"
   ]
  },
  {
   "cell_type": "markdown",
   "metadata": {
    "id": "h85dg7kVd_gk"
   },
   "source": [
    "## Inline Question 2:\n",
    "\n",
    "What is the difference between performing Structured Pruning vs Dropout ? \n",
    "Why would it be beneficial to perform both techniques when developing a Neural Network?\n",
    "\n",
    "\n",
    "## Answer: \n",
    "\n",
    "Dropout randomly turns off neurons during training to prevent overfitting, while structured pruning permanently removes entire filters or neurons after training to make the model smaller and faster. Using both is good because dropout makes the network learn better during training, and then pruning shrinks it down for deployment without losing much accuracy since dropout already made it robust."
   ]
  }
 ],
 "metadata": {
  "colab": {
   "collapsed_sections": [],
   "provenance": []
  },
  "gpuClass": "standard",
  "kernelspec": {
   "display_name": "lab1_venv",
   "language": "python",
   "name": "python3"
  },
  "language_info": {
   "codemirror_mode": {
    "name": "ipython",
    "version": 3
   },
   "file_extension": ".py",
   "mimetype": "text/x-python",
   "name": "python",
   "nbconvert_exporter": "python",
   "pygments_lexer": "ipython3",
   "version": "3.12.11"
  }
 },
 "nbformat": 4,
 "nbformat_minor": 0
}
